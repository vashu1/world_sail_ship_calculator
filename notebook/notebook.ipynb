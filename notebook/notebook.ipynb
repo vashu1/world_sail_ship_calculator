{
 "cells": [
  {
   "cell_type": "code",
   "execution_count": 1,
   "id": "2297ca96",
   "metadata": {},
   "outputs": [],
   "source": [
    "from matplotlib.backend_bases import MouseButton\n",
    "import matplotlib.pyplot as plt\n",
    "import numpy as np\n",
    "import matplotlib.colors as mcolors"
   ]
  },
  {
   "cell_type": "code",
   "execution_count": 2,
   "id": "8b6c3010",
   "metadata": {},
   "outputs": [
    {
     "name": "stdout",
     "output_type": "stream",
     "text": [
      "Collecting netCDF4\n",
      "  Downloading netCDF4-1.6.0-cp39-cp39-manylinux_2_17_x86_64.manylinux2014_x86_64.whl (5.2 MB)\n",
      "     ━━━━━━━━━━━━━━━━━━━━━━━━━━━━━━━━━━━━━━━━ 5.2/5.2 MB 5.1 MB/s eta 0:00:00\n",
      "Requirement already satisfied: numpy>=1.9 in /opt/conda/lib/python3.9/site-packages (from netCDF4) (1.21.5)\n",
      "Collecting cftime\n",
      "  Downloading cftime-1.6.0-cp39-cp39-manylinux_2_17_x86_64.manylinux2014_x86_64.whl (239 kB)\n",
      "     ━━━━━━━━━━━━━━━━━━━━━━━━━━━━━━━━━━━━━━━ 239.4/239.4 KB 5.7 MB/s eta 0:00:00\n",
      "Installing collected packages: cftime, netCDF4\n",
      "Successfully installed cftime-1.6.0 netCDF4-1.6.0\n"
     ]
    }
   ],
   "source": [
    "import os\n",
    "os.system('pip install netCDF4')\n",
    "import netCDF4\n",
    "#from mpl_toolkits.basemap import Basemap\n",
    "#для создания карт: folium, geopandas, branca"
   ]
  },
  {
   "cell_type": "code",
   "execution_count": 3,
   "id": "74645f77",
   "metadata": {},
   "outputs": [],
   "source": [
    "SCAN_NEIGHBOURS_DISTANCE = 2  # +/- 2 cells"
   ]
  },
  {
   "cell_type": "code",
   "execution_count": 4,
   "id": "f58a7c7f",
   "metadata": {},
   "outputs": [
    {
     "name": "stdout",
     "output_type": "stream",
     "text": [
      "2193 ['uv19950101.nc', 'uv19950102.nc', 'uv19950103.nc', 'uv19950104.nc', 'uv19950105.nc'] ['uv20051227.nc', 'uv20051228.nc', 'uv20051229.nc', 'uv20051230.nc', 'uv20051231.nc']\n",
      "uv19950105.nc ../www.ncei.noaa.gov/data/blended-global-sea-surface-wind-products/access/winds/6-hourly/1995/uv19950105.nc\n"
     ]
    }
   ],
   "source": [
    "def read_netcdf(filename):\n",
    "    file = netCDF4.Dataset(filename)\n",
    "    data = file.variables[:]   # ['data'][:]  # keys ['time', 'zlev', 'lat', 'lon', 'u', 'v']\n",
    "    file.close()\n",
    "\n",
    "folder = '../www.ncei.noaa.gov/data/blended-global-sea-surface-wind-products/access/winds/6-hourly/'\n",
    "file = netCDF4.Dataset(folder + '1995/uv19950115.nc')\n",
    "\n",
    "wind_files = {}\n",
    "for root, subdirs, files in os.walk('../www.ncei.noaa.gov'):  #'./Blended_Sea_Winds_dataset_6hourly'):\n",
    "    for file in files:\n",
    "        if file.endswith('.nc'):\n",
    "            #print(root, subdirs, file)\n",
    "            wind_files[file] = root + '/' + file\n",
    "\n",
    "print(len(wind_files), list(wind_files.keys())[:5], list(wind_files.keys())[-5:])\n",
    "print(list(wind_files.keys())[4], wind_files['uv19950105.nc'])\n",
    "#print(read_netcdf(wind_files['uv19950105.nc']))"
   ]
  },
  {
   "cell_type": "code",
   "execution_count": 13,
   "id": "f077e5f9",
   "metadata": {},
   "outputs": [],
   "source": [
    "fn = wind_files['uv20051227.nc']\n",
    "file = netCDF4.Dataset(fn)"
   ]
  },
  {
   "cell_type": "code",
   "execution_count": 14,
   "id": "67151b98",
   "metadata": {},
   "outputs": [
    {
     "data": {
      "text/plain": [
       "['_ncstring_attrs__',\n",
       " '_redef',\n",
       " 'close',\n",
       " 'cmptypes',\n",
       " 'createCompoundType',\n",
       " 'createDimension',\n",
       " 'createEnumType',\n",
       " 'createGroup',\n",
       " 'createVLType',\n",
       " 'createVariable',\n",
       " 'data_model',\n",
       " 'delncattr',\n",
       " 'dimensions',\n",
       " 'disk_format',\n",
       " 'enumtypes',\n",
       " 'file_format',\n",
       " 'filepath',\n",
       " 'fromcdl',\n",
       " 'get_variables_by_attributes',\n",
       " 'getncattr',\n",
       " 'groups',\n",
       " 'institution',\n",
       " 'isopen',\n",
       " 'keepweakref',\n",
       " 'name',\n",
       " 'ncattrs',\n",
       " 'parent',\n",
       " 'path',\n",
       " 'references',\n",
       " 'renameAttribute',\n",
       " 'renameDimension',\n",
       " 'renameGroup',\n",
       " 'renameVariable',\n",
       " 'set_always_mask',\n",
       " 'set_auto_chartostring',\n",
       " 'set_auto_mask',\n",
       " 'set_auto_maskandscale',\n",
       " 'set_auto_scale',\n",
       " 'set_fill_off',\n",
       " 'set_fill_on',\n",
       " 'set_ncstring_attrs',\n",
       " 'setncattr',\n",
       " 'setncattr_string',\n",
       " 'setncatts',\n",
       " 'source',\n",
       " 'summary',\n",
       " 'sync',\n",
       " 'title',\n",
       " 'tocdl',\n",
       " 'variables',\n",
       " 'vltypes']"
      ]
     },
     "execution_count": 14,
     "metadata": {},
     "output_type": "execute_result"
    }
   ],
   "source": [
    "dir(file)[40:]"
   ]
  },
  {
   "cell_type": "code",
   "execution_count": 16,
   "id": "c69433d2",
   "metadata": {},
   "outputs": [
    {
     "data": {
      "text/plain": [
       "{'zlev': <class 'netCDF4._netCDF4.Dimension'>: name = 'zlev', size = 1,\n",
       " 'time': <class 'netCDF4._netCDF4.Dimension'>: name = 'time', size = 4,\n",
       " 'lat': <class 'netCDF4._netCDF4.Dimension'>: name = 'lat', size = 719,\n",
       " 'lon': <class 'netCDF4._netCDF4.Dimension'>: name = 'lon', size = 1440}"
      ]
     },
     "execution_count": 16,
     "metadata": {},
     "output_type": "execute_result"
    }
   ],
   "source": [
    "file.dimensions"
   ]
  },
  {
   "cell_type": "code",
   "execution_count": 34,
   "id": "28de13c0",
   "metadata": {},
   "outputs": [
    {
     "name": "stdout",
     "output_type": "stream",
     "text": [
      "[245328 245334 245340 245346]\n"
     ]
    },
    {
     "data": {
      "text/plain": [
       "(masked_array(data=[10.],\n",
       "              mask=False,\n",
       "        fill_value=1e+20,\n",
       "             dtype=float32),\n",
       " masked_array(data=[10.],\n",
       "              mask=False,\n",
       "        fill_value=1e+20,\n",
       "             dtype=float32))"
      ]
     },
     "execution_count": 34,
     "metadata": {},
     "output_type": "execute_result"
    }
   ],
   "source": [
    "print(file.variables['time'][:])\n",
    "file.variables['lon'][0:8], file.variables['zlev'][-2:]"
   ]
  },
  {
   "cell_type": "code",
   "execution_count": null,
   "id": "08c20bc1",
   "metadata": {},
   "outputs": [],
   "source": []
  },
  {
   "cell_type": "code",
   "execution_count": 18,
   "id": "91174c10",
   "metadata": {},
   "outputs": [
    {
     "name": "stdout",
     "output_type": "stream",
     "text": [
      "dict_keys(['time', 'zlev', 'lat', 'lon', 'u', 'v'])\n",
      "NOAA/NCDC Blended 6-hourly 0.25-degree Sea Surface Winds\n",
      "Gridded and blended sea surface vector winds from multiple satellites with direction from NCEP Reanalysis-2; Global ocean coverage with a 0.25-degree resolution; The whole datasets covers from July 1987 to present, 6-hourly resolution in this dataset; daily and monthly are also available in other directories; See http://www.ncdc.noaa.gov/oa/rsad/blendedseawinds.html and links within for details. Include (u,v) means and scalar mean speed w for comparison\n",
      "time [245328 245334 245340]\n",
      "zlev [10.]\n",
      "lat [-89.75 -89.5  -89.25]\n",
      "lon [0.   0.25 0.5 ]\n",
      "u [[[[-- -- -- ... -- -- --]\n",
      "   [-- -- -- ... -- -- --]\n",
      "   [-- -- -- ... -- -- --]\n",
      "   ...\n",
      "   [-- -- -- ... -- -- --]\n",
      "   [-- -- -- ... -- -- --]\n",
      "   [-- -- -- ... -- -- --]]]\n",
      "\n",
      "\n",
      " [[[-- -- -- ... -- -- --]\n",
      "   [-- -- -- ... -- -- --]\n",
      "   [-- -- -- ... -- -- --]\n",
      "   ...\n",
      "   [-- -- -- ... -- -- --]\n",
      "   [-- -- -- ... -- -- --]\n",
      "   [-- -- -- ... -- -- --]]]\n",
      "\n",
      "\n",
      " [[[-- -- -- ... -- -- --]\n",
      "   [-- -- -- ... -- -- --]\n",
      "   [-- -- -- ... -- -- --]\n",
      "   ...\n",
      "   [-- -- -- ... -- -- --]\n",
      "   [-- -- -- ... -- -- --]\n",
      "   [-- -- -- ... -- -- --]]]]\n",
      "v [[[[-- -- -- ... -- -- --]\n",
      "   [-- -- -- ... -- -- --]\n",
      "   [-- -- -- ... -- -- --]\n",
      "   ...\n",
      "   [-- -- -- ... -- -- --]\n",
      "   [-- -- -- ... -- -- --]\n",
      "   [-- -- -- ... -- -- --]]]\n",
      "\n",
      "\n",
      " [[[-- -- -- ... -- -- --]\n",
      "   [-- -- -- ... -- -- --]\n",
      "   [-- -- -- ... -- -- --]\n",
      "   ...\n",
      "   [-- -- -- ... -- -- --]\n",
      "   [-- -- -- ... -- -- --]\n",
      "   [-- -- -- ... -- -- --]]]\n",
      "\n",
      "\n",
      " [[[-- -- -- ... -- -- --]\n",
      "   [-- -- -- ... -- -- --]\n",
      "   [-- -- -- ... -- -- --]\n",
      "   ...\n",
      "   [-- -- -- ... -- -- --]\n",
      "   [-- -- -- ... -- -- --]\n",
      "   [-- -- -- ... -- -- --]]]]\n"
     ]
    }
   ],
   "source": [
    "print(file.variables.keys())\n",
    "print(file.title)\n",
    "print(file.summary)\n",
    "for i in file.variables:\n",
    "    print(i, file.variables[i][:3])"
   ]
  },
  {
   "cell_type": "code",
   "execution_count": 17,
   "id": "765f338e",
   "metadata": {},
   "outputs": [],
   "source": [
    "# If you want to read data from a variable that spans multiple netCDF files, you can \n",
    "# use the MFDataset class to read the data as if it were contained in a single file. "
   ]
  },
  {
   "cell_type": "code",
   "execution_count": 38,
   "id": "2ad5b3d5",
   "metadata": {},
   "outputs": [
    {
     "name": "stdout",
     "output_type": "stream",
     "text": [
      "time 4\n",
      "zlev 1\n",
      "lat 719\n",
      "lon 1440\n",
      "u 4\n",
      "v 4\n"
     ]
    },
    {
     "ename": "IndexError",
     "evalue": "index 1 is out of bounds for axis 0 with size 1",
     "output_type": "error",
     "traceback": [
      "\u001b[0;31m---------------------------------------------------------------------------\u001b[0m",
      "\u001b[0;31mIndexError\u001b[0m                                Traceback (most recent call last)",
      "Input \u001b[0;32mIn [38]\u001b[0m, in \u001b[0;36m<cell line: 3>\u001b[0;34m()\u001b[0m\n\u001b[1;32m      1\u001b[0m \u001b[38;5;28;01mfor\u001b[39;00m i \u001b[38;5;129;01min\u001b[39;00m file\u001b[38;5;241m.\u001b[39mvariables:\n\u001b[1;32m      2\u001b[0m     \u001b[38;5;28mprint\u001b[39m(i, \u001b[38;5;28mlen\u001b[39m(file\u001b[38;5;241m.\u001b[39mvariables[i]))\n\u001b[0;32m----> 3\u001b[0m \u001b[38;5;28mprint\u001b[39m(\u001b[43mfile\u001b[49m\u001b[38;5;241;43m.\u001b[39;49m\u001b[43mvariables\u001b[49m\u001b[43m[\u001b[49m\u001b[38;5;124;43m'\u001b[39;49m\u001b[38;5;124;43mv\u001b[39;49m\u001b[38;5;124;43m'\u001b[39;49m\u001b[43m]\u001b[49m\u001b[43m[\u001b[49m\u001b[38;5;241;43m0\u001b[39;49m\u001b[43m]\u001b[49m\u001b[43m[\u001b[49m\u001b[38;5;241;43m1\u001b[39;49m\u001b[43m]\u001b[49m[\u001b[38;5;241m300\u001b[39m][\u001b[38;5;241m300\u001b[39m])\u001b[38;5;66;03m#[245328,10,0,0]\u001b[39;00m\n\u001b[1;32m      4\u001b[0m \u001b[38;5;28mprint\u001b[39m(file\u001b[38;5;241m.\u001b[39mvariables[\u001b[38;5;124m'\u001b[39m\u001b[38;5;124mv\u001b[39m\u001b[38;5;124m'\u001b[39m][\u001b[38;5;241m1\u001b[39m][\u001b[38;5;241m0\u001b[39m][\u001b[38;5;241m300\u001b[39m][\u001b[38;5;241m300\u001b[39m])\n\u001b[1;32m      5\u001b[0m \u001b[38;5;28mprint\u001b[39m(file\u001b[38;5;241m.\u001b[39mvariables[\u001b[38;5;124m'\u001b[39m\u001b[38;5;124mv\u001b[39m\u001b[38;5;124m'\u001b[39m][\u001b[38;5;241m2\u001b[39m][\u001b[38;5;241m0\u001b[39m][\u001b[38;5;241m300\u001b[39m][\u001b[38;5;241m300\u001b[39m])\n",
      "File \u001b[0;32m/opt/conda/lib/python3.9/site-packages/numpy/ma/core.py:3224\u001b[0m, in \u001b[0;36mMaskedArray.__getitem__\u001b[0;34m(self, indx)\u001b[0m\n\u001b[1;32m   3214\u001b[0m \u001b[38;5;124;03m\"\"\"\u001b[39;00m\n\u001b[1;32m   3215\u001b[0m \u001b[38;5;124;03mx.__getitem__(y) <==> x[y]\u001b[39;00m\n\u001b[1;32m   3216\u001b[0m \n\u001b[1;32m   3217\u001b[0m \u001b[38;5;124;03mReturn the item described by i, as a masked array.\u001b[39;00m\n\u001b[1;32m   3218\u001b[0m \n\u001b[1;32m   3219\u001b[0m \u001b[38;5;124;03m\"\"\"\u001b[39;00m\n\u001b[1;32m   3220\u001b[0m \u001b[38;5;66;03m# We could directly use ndarray.__getitem__ on self.\u001b[39;00m\n\u001b[1;32m   3221\u001b[0m \u001b[38;5;66;03m# But then we would have to modify __array_finalize__ to prevent the\u001b[39;00m\n\u001b[1;32m   3222\u001b[0m \u001b[38;5;66;03m# mask of being reshaped if it hasn't been set up properly yet\u001b[39;00m\n\u001b[1;32m   3223\u001b[0m \u001b[38;5;66;03m# So it's easier to stick to the current version\u001b[39;00m\n\u001b[0;32m-> 3224\u001b[0m dout \u001b[38;5;241m=\u001b[39m \u001b[38;5;28;43mself\u001b[39;49m\u001b[38;5;241;43m.\u001b[39;49m\u001b[43mdata\u001b[49m\u001b[43m[\u001b[49m\u001b[43mindx\u001b[49m\u001b[43m]\u001b[49m\n\u001b[1;32m   3225\u001b[0m _mask \u001b[38;5;241m=\u001b[39m \u001b[38;5;28mself\u001b[39m\u001b[38;5;241m.\u001b[39m_mask\n\u001b[1;32m   3227\u001b[0m \u001b[38;5;28;01mdef\u001b[39;00m \u001b[38;5;21m_is_scalar\u001b[39m(m):\n",
      "\u001b[0;31mIndexError\u001b[0m: index 1 is out of bounds for axis 0 with size 1"
     ]
    }
   ],
   "source": [
    "for i in file.variables:\n",
    "    print(i, len(file.variables[i]))\n",
    "print(file.variables['v'][0][0][300][300])#[245328,10,0,0]\n",
    "print(file.variables['v'][1][0][300][300])\n",
    "print(file.variables['v'][2][0][300][300]) # current shape = (4, 1, 719, 1440)"
   ]
  },
  {
   "cell_type": "code",
   "execution_count": 30,
   "id": "4b9c6230",
   "metadata": {},
   "outputs": [
    {
     "data": {
      "text/plain": [
       "masked_array(data=[cftime.DatetimeGregorian(2005, 12, 27, 0, 0, 0, 0, has_year_zero=False),\n",
       "                   cftime.DatetimeGregorian(2005, 12, 27, 6, 0, 0, 0, has_year_zero=False),\n",
       "                   cftime.DatetimeGregorian(2005, 12, 27, 12, 0, 0, 0, has_year_zero=False),\n",
       "                   cftime.DatetimeGregorian(2005, 12, 27, 18, 0, 0, 0, has_year_zero=False)],\n",
       "             mask=False,\n",
       "       fill_value='?',\n",
       "            dtype=object)"
      ]
     },
     "execution_count": 30,
     "metadata": {},
     "output_type": "execute_result"
    }
   ],
   "source": [
    "t = file.variables['time']\n",
    "netCDF4.num2date(t[:],t.units)"
   ]
  },
  {
   "cell_type": "code",
   "execution_count": 35,
   "id": "0834a03e",
   "metadata": {},
   "outputs": [],
   "source": [
    "#dir(file.variables['u'][0,0,0,0])"
   ]
  },
  {
   "cell_type": "code",
   "execution_count": 36,
   "id": "8ae5d40d",
   "metadata": {},
   "outputs": [
    {
     "name": "stdout",
     "output_type": "stream",
     "text": [
      "<class 'netCDF4._netCDF4.Variable'>\n",
      "float32 v(time, zlev, lat, lon)\n",
      "    long_name: Sea Surface Wind: y-component\n",
      "    units: m/s\n",
      "    _FillValue: -9999.0\n",
      "unlimited dimensions: \n",
      "current shape = (4, 1, 719, 1440)\n",
      "filling on\n"
     ]
    }
   ],
   "source": [
    "print(file.variables['v'])"
   ]
  },
  {
   "cell_type": "code",
   "execution_count": 46,
   "id": "3af300b2-d765-436d-8446-cae3e88dec18",
   "metadata": {},
   "outputs": [
    {
     "name": "stdout",
     "output_type": "stream",
     "text": [
      "<class 'netCDF4._netCDF4.Variable'>\n",
      "float32 v(time, depth, latitude, longitude)\n",
      "    units: meter/sec\n",
      "    long_name: Meridional Velocity\n",
      "    missing_value: nan\n",
      "unlimited dimensions: \n",
      "current shape = (72, 1, 140, 360)\n",
      "filling on, default _FillValue of 9.969209968386869e+36 used\n",
      "-0.031576388\n"
     ]
    }
   ],
   "source": [
    "file_c = netCDF4.Dataset('../oscar/world_oscar_vel_5d1995.nc')\n",
    "print(file_c.variables['v'])\n",
    "# float32 v(time, depth, latitude, longitude)\n",
    "# current shape = (72, 1, 140, 360)\n",
    "print(file_c.variables['v'][1,0,99,181])"
   ]
  },
  {
   "cell_type": "code",
   "execution_count": 45,
   "id": "210dc490-d528-4bc1-bb8a-b118dabc0a4d",
   "metadata": {},
   "outputs": [
    {
     "name": "stdout",
     "output_type": "stream",
     "text": [
      "dict_keys(['latitude', 'longitude', 'time', 'date', 'depth', 'mask', 'u', 'v', 'uf', 'vf'])\n",
      "latitude <class 'netCDF4._netCDF4.Variable'>\n",
      "float32 latitude(latitude)\n",
      "    units: degrees-north\n",
      "    long_name: Latitude\n",
      "unlimited dimensions: \n",
      "current shape = (140,)\n",
      "filling on, default _FillValue of 9.969209968386869e+36 used\n",
      "longitude <class 'netCDF4._netCDF4.Variable'>\n",
      "float32 longitude(longitude)\n",
      "    units: degrees-east\n",
      "    long_name: Longitude\n",
      "unlimited dimensions: \n",
      "current shape = (360,)\n",
      "filling on, default _FillValue of 9.969209968386869e+36 used\n",
      "time <class 'netCDF4._netCDF4.Variable'>\n",
      "int32 time(time)\n",
      "    units: day since 1992-10-05 00:00:00\n",
      "    long_name: Time\n",
      "unlimited dimensions: \n",
      "current shape = (72,)\n",
      "filling on, default _FillValue of -2147483647 used\n",
      "date <class 'netCDF4._netCDF4.Variable'>\n",
      "int32 date(time)\n",
      "    long_name: Date in integer format\n",
      "unlimited dimensions: \n",
      "current shape = (72,)\n",
      "filling on, default _FillValue of -2147483647 used\n",
      "depth <class 'netCDF4._netCDF4.Variable'>\n",
      "float32 depth(depth)\n",
      "    units: meter\n",
      "    long_name: Depth\n",
      "unlimited dimensions: \n",
      "current shape = (1,)\n",
      "filling on, default _FillValue of 9.969209968386869e+36 used\n",
      "mask <class 'netCDF4._netCDF4.Variable'>\n",
      "int32 mask(latitude, longitude)\n",
      "    long_name: Mask\n",
      "unlimited dimensions: \n",
      "current shape = (140, 360)\n",
      "filling on, default _FillValue of -2147483647 used\n",
      "u <class 'netCDF4._netCDF4.Variable'>\n",
      "float32 u(time, depth, latitude, longitude)\n",
      "    units: meter/sec\n",
      "    long_name: Zonal Velocity\n",
      "    missing_value: nan\n",
      "unlimited dimensions: \n",
      "current shape = (72, 1, 140, 360)\n",
      "filling on, default _FillValue of 9.969209968386869e+36 used\n",
      "v <class 'netCDF4._netCDF4.Variable'>\n",
      "float32 v(time, depth, latitude, longitude)\n",
      "    units: meter/sec\n",
      "    long_name: Meridional Velocity\n",
      "    missing_value: nan\n",
      "unlimited dimensions: \n",
      "current shape = (72, 1, 140, 360)\n",
      "filling on, default _FillValue of 9.969209968386869e+36 used\n",
      "uf <class 'netCDF4._netCDF4.Variable'>\n",
      "float32 uf(time, depth, latitude, longitude)\n",
      "    units: meter/sec\n",
      "    long_name: Filtered Zonal Velocity\n",
      "    missing_value: nan\n",
      "unlimited dimensions: \n",
      "current shape = (72, 1, 140, 360)\n",
      "filling on, default _FillValue of 9.969209968386869e+36 used\n",
      "vf <class 'netCDF4._netCDF4.Variable'>\n",
      "float32 vf(time, depth, latitude, longitude)\n",
      "    units: meter/sec\n",
      "    long_name: Filtered Meridional Velocity\n",
      "    missing_value: nan\n",
      "unlimited dimensions: \n",
      "current shape = (72, 1, 140, 360)\n",
      "filling on, default _FillValue of 9.969209968386869e+36 used\n"
     ]
    }
   ],
   "source": [
    "print(file_c.variables.keys())\n",
    "for i in file_c.variables:\n",
    "    print(i, file_c.variables[i])#[:1])"
   ]
  },
  {
   "cell_type": "code",
   "execution_count": 49,
   "id": "9b0e87c8-4ce0-475b-8f70-0a29715801f3",
   "metadata": {},
   "outputs": [
    {
     "name": "stdout",
     "output_type": "stream",
     "text": [
      "<class 'netCDF4._netCDF4.Variable'>\n",
      "float32 latitude(time)\n",
      "    long_name: Latitude\n",
      "    standard_name: latitude\n",
      "    units: degrees_north\n",
      "    valid_max: 90.0\n",
      "    valid_min: -90.0\n",
      "    comment: Positive latitude is North latitude, negative latitude is South latitude\n",
      "unlimited dimensions: \n",
      "current shape = (12,)\n",
      "filling on, default _FillValue of 9.969209968386869e+36 used\n"
     ]
    },
    {
     "ename": "KeyError",
     "evalue": "'v'",
     "output_type": "error",
     "traceback": [
      "\u001b[0;31m---------------------------------------------------------------------------\u001b[0m",
      "\u001b[0;31mKeyError\u001b[0m                                  Traceback (most recent call last)",
      "Input \u001b[0;32mIn [49]\u001b[0m, in \u001b[0;36m<cell line: 5>\u001b[0;34m()\u001b[0m\n\u001b[1;32m      2\u001b[0m \u001b[38;5;28mprint\u001b[39m(file_c\u001b[38;5;241m.\u001b[39mvariables[\u001b[38;5;124m'\u001b[39m\u001b[38;5;124mlatitude\u001b[39m\u001b[38;5;124m'\u001b[39m])\n\u001b[1;32m      3\u001b[0m \u001b[38;5;66;03m# float32 v(time, depth, latitude, longitude)\u001b[39;00m\n\u001b[1;32m      4\u001b[0m \u001b[38;5;66;03m# current shape = (72, 1, 140, 360)\u001b[39;00m\n\u001b[0;32m----> 5\u001b[0m \u001b[38;5;28mprint\u001b[39m(\u001b[43mfile_c\u001b[49m\u001b[38;5;241;43m.\u001b[39;49m\u001b[43mvariables\u001b[49m\u001b[43m[\u001b[49m\u001b[38;5;124;43m'\u001b[39;49m\u001b[38;5;124;43mv\u001b[39;49m\u001b[38;5;124;43m'\u001b[39;49m\u001b[43m]\u001b[49m[\u001b[38;5;241m1\u001b[39m,\u001b[38;5;241m0\u001b[39m,\u001b[38;5;241m99\u001b[39m,\u001b[38;5;241m181\u001b[39m])\n",
      "\u001b[0;31mKeyError\u001b[0m: 'v'"
     ]
    }
   ],
   "source": [
    "file_c = netCDF4.Dataset('../seanoe/ASAR_Product_NC_2003/ENVISAT_ASAR_Wave_20030101_000404_20030101_000649_00012_00316.nc')\n",
    "print(file_c.variables['latitude'])\n",
    "# float32 v(time, depth, latitude, longitude)\n",
    "# current shape = (72, 1, 140, 360)\n",
    "print(file_c.variables['v'][1,0,99,181])"
   ]
  },
  {
   "cell_type": "code",
   "execution_count": 51,
   "id": "50dd0067-1da5-40d8-a9b4-ce6d8f9b50ec",
   "metadata": {},
   "outputs": [
    {
     "name": "stdout",
     "output_type": "stream",
     "text": [
      "dict_keys(['latitude', 'longitude', 'time', 'heading', 'inci_angle', 'land_flag', 'homogeneity', 'normalized_variance', 'rejection_flag', 'qc_flag', 'swh', 'mwp', 'swh_cali', 'mwp_cali'])\n",
      "latitude [54.875015 55.748432] [63.574326  0.      ]\n",
      "longitude [-38.59197 -38.96503] [-42.962505   0.      ]\n",
      "time [94694644 94694659] [94694794 94694809]\n",
      "heading [-16.88436 -17.15604] [-20.56627   0.     ]\n",
      "inci_angle [22.767782 22.731747] [22.782444 22.75276 ]\n",
      "land_flag [0 0] [1 0]\n",
      "homogeneity [0.992 0.988] [-- --]\n",
      "normalized_variance [1.1669663 1.1735283] [1.0331609 1.0004587]\n",
      "rejection_flag [0 0] [2 1]\n",
      "qc_flag [0 0] [-- --]\n",
      "swh [3.353 3.476] [-- --]\n",
      "mwp [7.404 7.379] [-- --]\n",
      "swh_cali [3.42  3.559] [-- --]\n",
      "mwp_cali [7.502 7.469] [-- --]\n"
     ]
    }
   ],
   "source": [
    "print(file_c.variables.keys())\n",
    "for i in file_c.variables:\n",
    "    print(i, file_c.variables[i][:2], file_c.variables[i][-2:])"
   ]
  },
  {
   "cell_type": "code",
   "execution_count": 52,
   "id": "8d7e235b-1a89-41df-8544-4c84087f163a",
   "metadata": {},
   "outputs": [
    {
     "name": "stdout",
     "output_type": "stream",
     "text": [
      "dict_keys(['latitude', 'longitude', 'time', 'heading', 'inci_angle', 'land_flag', 'homogeneity', 'normalized_variance', 'rejection_flag', 'qc_flag', 'swh', 'mwp', 'swh_cali', 'mwp_cali'])\n",
      "latitude [-38.56931  -37.694366] [32.27441 33.15805]\n",
      "longitude [19.008629 18.699593] [1.363645 1.141778]\n",
      "time [112915537 112915552] [112916736 112916751]\n",
      "heading [-14.024046 -13.925429] [-13.31665  -13.382732]\n",
      "inci_angle [23.083258 23.153648] [22.751688 22.72313 ]\n",
      "land_flag [0 0] [1 1]\n",
      "homogeneity [0.986 1.002] [-- --]\n",
      "normalized_variance [1.308798 1.344704] [1.1086711 1.846629 ]\n",
      "rejection_flag [0 0] [2 2]\n",
      "qc_flag [0 0] [-- --]\n",
      "swh [5.324 6.878] [-- --]\n",
      "mwp [8.005 8.625] [-- --]\n",
      "swh_cali [5.666 7.438] [-- --]\n",
      "mwp_cali [8.263 9.049] [-- --]\n"
     ]
    }
   ],
   "source": [
    "file_c = netCDF4.Dataset('../seanoe/ASAR_Product_NC_2003/ENVISAT_ASAR_Wave_20030730_212537_20030730_214551_00018_00329.nc')\n",
    "print(file_c.variables.keys())\n",
    "for i in file_c.variables:\n",
    "    print(i, file_c.variables[i][:2], file_c.variables[i][-2:])"
   ]
  },
  {
   "cell_type": "code",
   "execution_count": 55,
   "id": "540ee49d-5910-40bc-a303-dbc054cedeba",
   "metadata": {},
   "outputs": [
    {
     "name": "stdout",
     "output_type": "stream",
     "text": [
      "Wave Parameter Product Derived from ESA ENVISAT/ASAR L1B Product\n",
      "This dataset contains wave parameters derived from ENVISAT ASAR wave mode L1B product using CWAVE_ENV method, the retrived parameters are calibrated according to buoy data.\n"
     ]
    },
    {
     "data": {
      "text/plain": [
       "['Conventions',\n",
       " '__class__',\n",
       " '__delattr__',\n",
       " '__dir__',\n",
       " '__doc__',\n",
       " '__enter__',\n",
       " '__eq__',\n",
       " '__exit__',\n",
       " '__format__',\n",
       " '__ge__',\n",
       " '__getattr__',\n",
       " '__getattribute__',\n",
       " '__getitem__',\n",
       " '__gt__',\n",
       " '__hash__',\n",
       " '__init__',\n",
       " '__init_subclass__',\n",
       " '__le__',\n",
       " '__lt__',\n",
       " '__ne__',\n",
       " '__new__',\n",
       " '__orthogonal_indexing__',\n",
       " '__reduce__',\n",
       " '__reduce_ex__',\n",
       " '__repr__',\n",
       " '__setattr__',\n",
       " '__sizeof__',\n",
       " '__str__',\n",
       " '__subclasshook__',\n",
       " '_close',\n",
       " '_close_mem',\n",
       " '_enddef',\n",
       " '_getname',\n",
       " '_grpid',\n",
       " '_isopen',\n",
       " '_ncstring_attrs__',\n",
       " '_redef',\n",
       " 'acq_station_name',\n",
       " 'close',\n",
       " 'cmptypes',\n",
       " 'contact',\n",
       " 'createCompoundType',\n",
       " 'createDimension',\n",
       " 'createEnumType',\n",
       " 'createGroup',\n",
       " 'createVLType',\n",
       " 'createVariable',\n",
       " 'cycle_number',\n",
       " 'data_model',\n",
       " 'delncattr',\n",
       " 'dimensions',\n",
       " 'disk_format',\n",
       " 'end_date',\n",
       " 'enumtypes',\n",
       " 'file_format',\n",
       " 'filepath',\n",
       " 'fromcdl',\n",
       " 'get_variables_by_attributes',\n",
       " 'getncattr',\n",
       " 'groups',\n",
       " 'history',\n",
       " 'imaging_mode',\n",
       " 'isopen',\n",
       " 'keepweakref',\n",
       " 'mission_name',\n",
       " 'name',\n",
       " 'ncattrs',\n",
       " 'orbit_number',\n",
       " 'parent',\n",
       " 'pass',\n",
       " 'path',\n",
       " 'polarization',\n",
       " 'processing_algorithm',\n",
       " 'processing_center',\n",
       " 'processing_software',\n",
       " 'processing_time',\n",
       " 'product_ID',\n",
       " 'product_version',\n",
       " 'project',\n",
       " 'references',\n",
       " 'renameAttribute',\n",
       " 'renameDimension',\n",
       " 'renameGroup',\n",
       " 'renameVariable',\n",
       " 'sensor_name',\n",
       " 'set_always_mask',\n",
       " 'set_auto_chartostring',\n",
       " 'set_auto_mask',\n",
       " 'set_auto_maskandscale',\n",
       " 'set_auto_scale',\n",
       " 'set_fill_off',\n",
       " 'set_fill_on',\n",
       " 'set_ncstring_attrs',\n",
       " 'setncattr',\n",
       " 'setncattr_string',\n",
       " 'setncatts',\n",
       " 'source',\n",
       " 'source_name',\n",
       " 'source_provider',\n",
       " 'source_software',\n",
       " 'start_date',\n",
       " 'summary',\n",
       " 'sync',\n",
       " 'title',\n",
       " 'tocdl',\n",
       " 'variables',\n",
       " 'vltypes']"
      ]
     },
     "execution_count": 55,
     "metadata": {},
     "output_type": "execute_result"
    }
   ],
   "source": [
    "\n",
    "print(file_c.title)\n",
    "print(file_c.summary)\n",
    "dir(file_c)"
   ]
  },
  {
   "cell_type": "code",
   "execution_count": null,
   "id": "64731209-6365-4de8-aff0-9938d6c389b7",
   "metadata": {},
   "outputs": [],
   "source": []
  }
 ],
 "metadata": {
  "kernelspec": {
   "display_name": "Python 3 (ipykernel)",
   "language": "python",
   "name": "python3"
  },
  "language_info": {
   "codemirror_mode": {
    "name": "ipython",
    "version": 3
   },
   "file_extension": ".py",
   "mimetype": "text/x-python",
   "name": "python",
   "nbconvert_exporter": "python",
   "pygments_lexer": "ipython3",
   "version": "3.9.10"
  }
 },
 "nbformat": 4,
 "nbformat_minor": 5
}
